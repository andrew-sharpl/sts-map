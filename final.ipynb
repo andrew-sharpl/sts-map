{
 "cells": [
  {
   "cell_type": "code",
   "execution_count": null,
   "metadata": {
    "pycharm": {
     "is_executing": true,
     "name": "#%%\n"
    },
    "is_executing": true
   },
   "outputs": [],
   "source": [
    "import json\n",
    "import numpy as np\n",
    "from scipy.optimize import linprog\n",
    "import matplotlib.pyplot as plt\n",
    "import matplotlib.patches as patches\n",
    "# NOTE: Use python version >= 3.10 since I use match statements"
   ]
  },
  {
   "cell_type": "markdown",
   "metadata": {
    "pycharm": {
     "name": "#%% md\n"
    }
   },
   "source": [
    "# Optimization Final Project\n",
    "**Joseph Andrew Sharp Luevano**"
   ]
  },
  {
   "cell_type": "markdown",
   "metadata": {
    "pycharm": {
     "name": "#%% md\n"
    }
   },
   "source": [
    "## Introduction\n",
    "\n",
    "One of my favourite video games is Slay the Spire, a card-based adventure game where players progress through different levels, battling enemies and collecting cards to create a powerful deck. In each game, levels and challenges are randomly generated. If your character dies at any point, you must start a new game from the beginning, losing all items and progress from that run. It is a challenging, yet rewarding game where you must manage risk, plan carefully, and reason about probabilities, all while building a sufficiently powerful deck to defeat the final boss.\n",
    "\n",
    "The game is divided into 3 acts, each with their own [map](https://steamuserimages-a.akamaihd.net/ugc/957481092845833078/A708E7902EE6E6EFECD06D1FB5FB906BB9EB8D51/). Each node in the map represents a type of encounter, such as a fight or a shop. Between each encounter, the player chooses the next node they wish to visit in the map. Choosing which path to take is an important and complicated process, as it involves many subtle variables. In general, the player should choose the path that they believe will set them up for the best chance of winning the run while not dying. The player's decision can be boiled down to choosing the path that contains the nodes they believe will help them achieve his end. Each type of node provides a different set of risks and rewards, so the player must decide how much they value a node's rewards and whether it outweighs the risk. Evaluating a particular node is a difficult process, but a player must estimate their values if they wish to reason about which path to take. The goal of my algorithm is to find the path in the map that maximizes utility given some evaluation of the nodes.\n",
    "\n",
    "I am aware that such this algorithm will necessarily be unable to capture every subtlety of the decision process, but will nonetheless be a helpful tool in analyzing potential routes. This type of map navigation is not unique to Slay the Spire, as it is common among other games in the roguelike genre.  Therefore, this algorithm will also outline a general process that can be applied to other games with this feature."
   ]
  },
  {
   "cell_type": "markdown",
   "metadata": {
    "pycharm": {
     "name": "#%% md\n"
    }
   },
   "source": [
    "## The Problem\n",
    "\n",
    "The problem of finding the best path in Slay the Spire can be represented by the *Longest Dipath Problem*. The problem is as follows: Given a directed graph, we wish to find the longest weighted path from some start node to an end node. The 'length' of a path is determined by the total summed weight of the edges taken along the path.\n",
    "\n",
    "Alan Sultan describes a way to formulate this as a linear program in section 1.13 of *\"Linear Programming. An Introduction with Applications\"*, which we can then solve for the longest path:\n",
    "\n",
    "Let $D = (E, V)$ be a directed graph with vertices $V = \\{1, ..., n\\}$, where $1$ is the starting node and $n$ is the ending node. Let $f : V \\rightarrow \\mathbb{R}$ be a function that takes a node and returns its value (or weight). We define the variables $x_{ij} \\in \\{0, 1\\}$ for each edge in $E$ starting at vertex $i$ and ending at $j$. In our linear program, $x_{ij} = 1$ if the edge $(i, j)$ is included in the path, and $0$ otherwise. Therefore, the weight of the path is given by the sum of the edges chosen multiplied by their respective weights. Note that in our case, the weight of an edge is equivalent to the weight of the vertex the edge arrives at. This gives us our objective function we wish to maximize:\n",
    "$$c = \\sum f(j)\\cdot x_{ij}$$\n",
    "\n",
    "The constraints are determined by the vertices, and enforce that the proper number of edges are entering and leaving the vertex. Therefore, we will have $|V|$ constraints. The first constraint is that the number of edges leaving the starting vertex ($1$) is exactly $1$, giving us:\n",
    "$$\\sum x_{1j} = 1$$\n",
    "\n",
    "Next, we add a constraint ensuring that exactly one edge arrives at the end vertex ($n$):\n",
    "$$\\sum x_{in} = 1$$\n",
    "\n",
    "Finally, we must ensure that the number of edges entering a vertex equals the number of edges leaving it:\n",
    "$$\\sum x_{ij} = \\sum x_{jk}$$\n",
    "\n",
    "We also add the constraint that all the variables are non-negative and integral. The author claims that once an optimal solution is obtained for this LP, the variables which are $1$ determine which edges will be included in the path. This is the method I will be using to solve the problem.\n",
    "\n",
    "In my algorithm, the graph will be represented with an incidence matrix, $M \\in \\mathbb{R}^{|V| \\times |E|}$. Each row represents a vertex, and each column represents and edge. The entries are defined as follows:\n",
    "$$M_{uv} = \\begin{cases}\n",
    "1 & \\text{If edge $v$ arrives at vertex $u$} \\\\\n",
    "-1 & \\text{ If edge $v$ leaves vertex $u$} \\\\\n",
    "0 & \\text{otherwise}\n",
    "\\end{cases}$$\n",
    "\n",
    "Consider the constraint, $\\sum x_{ij} = \\sum x_{jk}$. It can be rewritten as $\\sum x_{ij} - \\sum x_{jk} = 0$. Note that the edges arriving at $j$ have a coefficient of $1$, and the edges leaving $j$ have a coefficient of $-1$. Furthermore, we can write it as $\\sum x_{ij} - \\sum x_{jk} + 0 \\cdot \\sum x_{ab} = 0$ where $x_{ab}$ are the remaining edges. Observe that the coefficients have the same meaning as in our incidence matrix. We can rearrange the order of summation so that the coefficients are equal to the entries in the corresponding row of $M$. We can do this to every constraint so that the left-hand side coefficients are given by the incidence matrix. Note that the final constraint does not need to be changed, since there are only edges arriving at the last vertex (with entries $1$). We can multiply the first constraint by $-1$ so that the coefficients on the left-hand side are negative, like in the incidence matrix, giving us $\\sum -x_{1j} = -1$. This allows us to simplify the linear program to the following:\n",
    "\n",
    "$$\\text{maximize: } c = \\sum f(j)\\cdot x_{ij}$$\n",
    "$$\\text{subject to: } Mx = [-1, 0, ..., 0, 1]^T$$\n",
    "$$x \\geq 0$$"
   ]
  },
  {
   "cell_type": "markdown",
   "metadata": {
    "pycharm": {
     "name": "#%% md\n"
    }
   },
   "source": [
    "# My Solution\n",
    "\n",
    "## Initializing the Map\n",
    "The maps in Slay the Spire are randomly generated from a seed. I will be using [this program](https://github.com/Ru5ty0ne/sts_map_oracle) by a Reddit user who [reverse engineered](https://www.reddit.com/r/slaythespire/comments/ndqweh/i_have_reverseengineered_map_generation_algorithm/) the game's map making algorithm. The program takes a seed and creates a json file containing the map for all three acts. The json object has the following structure:\n",
    "```\n",
    "{\n",
    "\"edges\": [{\"src_x\": _, \"src_y\": _, \"dst_x\": _, \"dst_y\": _}],\n",
    "\"nodes\": [{\"x\": _, \"y\": _, \"class\": _}]\n",
    "}\n",
    "```\n",
    "The $x$ coordinate may range from $0$ to $6$, while the $y$ coordinate ranges from $0$ to $14$. The \"class\" attribute tells us what type of node it is. Here is a short summary of the types of nodes.\n",
    "\n",
    "* \"MonsterRoom\": A standard fight.\n",
    "* \"ShopRoom\": A place to purchase items for gold.\n",
    "* \"RestRoom\": A place to upgrade cards or restore health.\n",
    "* \"MonsterRoomElite\": A difficult fight with greater rewards.\n",
    "* \"EventRoom\": A random event, which has a varied outcome.\n",
    "* \"TreasureRoom\": A chest containing a reward.\n",
    "\n",
    "I have included some pre-generated map json files. The first step is to import the json data."
   ]
  },
  {
   "cell_type": "code",
   "execution_count": 2,
   "metadata": {
    "pycharm": {
     "name": "#%%\n"
    }
   },
   "outputs": [
    {
     "data": {
      "text/plain": [
       "{'edges': [{'src_x': 0, 'src_y': 0, 'dst_x': 1, 'dst_y': 1},\n",
       "  {'src_x': 2, 'src_y': 0, 'dst_x': 3, 'dst_y': 1},\n",
       "  {'src_x': 5, 'src_y': 0, 'dst_x': 4, 'dst_y': 1},\n",
       "  {'src_x': 1, 'src_y': 1, 'dst_x': 0, 'dst_y': 2},\n",
       "  {'src_x': 3, 'src_y': 1, 'dst_x': 2, 'dst_y': 2},\n",
       "  {'src_x': 3, 'src_y': 1, 'dst_x': 3, 'dst_y': 2},\n",
       "  {'src_x': 3, 'src_y': 1, 'dst_x': 4, 'dst_y': 2},\n",
       "  {'src_x': 4, 'src_y': 1, 'dst_x': 5, 'dst_y': 2},\n",
       "  {'src_x': 0, 'src_y': 2, 'dst_x': 1, 'dst_y': 3},\n",
       "  {'src_x': 2, 'src_y': 2, 'dst_x': 3, 'dst_y': 3},\n",
       "  {'src_x': 3, 'src_y': 2, 'dst_x': 4, 'dst_y': 3},\n",
       "  {'src_x': 4, 'src_y': 2, 'dst_x': 5, 'dst_y': 3},\n",
       "  {'src_x': 5, 'src_y': 2, 'dst_x': 6, 'dst_y': 3},\n",
       "  {'src_x': 1, 'src_y': 3, 'dst_x': 1, 'dst_y': 4},\n",
       "  {'src_x': 3, 'src_y': 3, 'dst_x': 3, 'dst_y': 4},\n",
       "  {'src_x': 4, 'src_y': 3, 'dst_x': 3, 'dst_y': 4},\n",
       "  {'src_x': 4, 'src_y': 3, 'dst_x': 5, 'dst_y': 4},\n",
       "  {'src_x': 5, 'src_y': 3, 'dst_x': 6, 'dst_y': 4},\n",
       "  {'src_x': 6, 'src_y': 3, 'dst_x': 6, 'dst_y': 4},\n",
       "  {'src_x': 1, 'src_y': 4, 'dst_x': 0, 'dst_y': 5},\n",
       "  {'src_x': 3, 'src_y': 4, 'dst_x': 2, 'dst_y': 5},\n",
       "  {'src_x': 3, 'src_y': 4, 'dst_x': 4, 'dst_y': 5},\n",
       "  {'src_x': 5, 'src_y': 4, 'dst_x': 6, 'dst_y': 5},\n",
       "  {'src_x': 6, 'src_y': 4, 'dst_x': 6, 'dst_y': 5},\n",
       "  {'src_x': 0, 'src_y': 5, 'dst_x': 1, 'dst_y': 6},\n",
       "  {'src_x': 2, 'src_y': 5, 'dst_x': 2, 'dst_y': 6},\n",
       "  {'src_x': 4, 'src_y': 5, 'dst_x': 5, 'dst_y': 6},\n",
       "  {'src_x': 6, 'src_y': 5, 'dst_x': 5, 'dst_y': 6},\n",
       "  {'src_x': 6, 'src_y': 5, 'dst_x': 6, 'dst_y': 6},\n",
       "  {'src_x': 1, 'src_y': 6, 'dst_x': 1, 'dst_y': 7},\n",
       "  {'src_x': 2, 'src_y': 6, 'dst_x': 2, 'dst_y': 7},\n",
       "  {'src_x': 5, 'src_y': 6, 'dst_x': 4, 'dst_y': 7},\n",
       "  {'src_x': 5, 'src_y': 6, 'dst_x': 5, 'dst_y': 7},\n",
       "  {'src_x': 6, 'src_y': 6, 'dst_x': 5, 'dst_y': 7},\n",
       "  {'src_x': 6, 'src_y': 6, 'dst_x': 6, 'dst_y': 7},\n",
       "  {'src_x': 1, 'src_y': 7, 'dst_x': 1, 'dst_y': 8},\n",
       "  {'src_x': 2, 'src_y': 7, 'dst_x': 2, 'dst_y': 8},\n",
       "  {'src_x': 4, 'src_y': 7, 'dst_x': 5, 'dst_y': 8},\n",
       "  {'src_x': 5, 'src_y': 7, 'dst_x': 5, 'dst_y': 8},\n",
       "  {'src_x': 6, 'src_y': 7, 'dst_x': 6, 'dst_y': 8},\n",
       "  {'src_x': 1, 'src_y': 8, 'dst_x': 1, 'dst_y': 9},\n",
       "  {'src_x': 2, 'src_y': 8, 'dst_x': 2, 'dst_y': 9},\n",
       "  {'src_x': 5, 'src_y': 8, 'dst_x': 5, 'dst_y': 9},\n",
       "  {'src_x': 5, 'src_y': 8, 'dst_x': 6, 'dst_y': 9},\n",
       "  {'src_x': 6, 'src_y': 8, 'dst_x': 6, 'dst_y': 9},\n",
       "  {'src_x': 1, 'src_y': 9, 'dst_x': 1, 'dst_y': 10},\n",
       "  {'src_x': 2, 'src_y': 9, 'dst_x': 3, 'dst_y': 10},\n",
       "  {'src_x': 5, 'src_y': 9, 'dst_x': 4, 'dst_y': 10},\n",
       "  {'src_x': 5, 'src_y': 9, 'dst_x': 5, 'dst_y': 10},\n",
       "  {'src_x': 6, 'src_y': 9, 'dst_x': 6, 'dst_y': 10},\n",
       "  {'src_x': 1, 'src_y': 10, 'dst_x': 1, 'dst_y': 11},\n",
       "  {'src_x': 3, 'src_y': 10, 'dst_x': 3, 'dst_y': 11},\n",
       "  {'src_x': 4, 'src_y': 10, 'dst_x': 4, 'dst_y': 11},\n",
       "  {'src_x': 5, 'src_y': 10, 'dst_x': 5, 'dst_y': 11},\n",
       "  {'src_x': 6, 'src_y': 10, 'dst_x': 5, 'dst_y': 11},\n",
       "  {'src_x': 1, 'src_y': 11, 'dst_x': 2, 'dst_y': 12},\n",
       "  {'src_x': 3, 'src_y': 11, 'dst_x': 2, 'dst_y': 12},\n",
       "  {'src_x': 4, 'src_y': 11, 'dst_x': 4, 'dst_y': 12},\n",
       "  {'src_x': 5, 'src_y': 11, 'dst_x': 5, 'dst_y': 12},\n",
       "  {'src_x': 5, 'src_y': 11, 'dst_x': 6, 'dst_y': 12},\n",
       "  {'src_x': 2, 'src_y': 12, 'dst_x': 1, 'dst_y': 13},\n",
       "  {'src_x': 4, 'src_y': 12, 'dst_x': 3, 'dst_y': 13},\n",
       "  {'src_x': 5, 'src_y': 12, 'dst_x': 4, 'dst_y': 13},\n",
       "  {'src_x': 6, 'src_y': 12, 'dst_x': 5, 'dst_y': 13},\n",
       "  {'src_x': 1, 'src_y': 13, 'dst_x': 0, 'dst_y': 14},\n",
       "  {'src_x': 1, 'src_y': 13, 'dst_x': 1, 'dst_y': 14},\n",
       "  {'src_x': 3, 'src_y': 13, 'dst_x': 4, 'dst_y': 14},\n",
       "  {'src_x': 4, 'src_y': 13, 'dst_x': 4, 'dst_y': 14},\n",
       "  {'src_x': 5, 'src_y': 13, 'dst_x': 6, 'dst_y': 14}],\n",
       " 'nodes': [{'x': 0, 'y': 0, 'class': 'MonsterRoom'},\n",
       "  {'x': 2, 'y': 0, 'class': 'MonsterRoom'},\n",
       "  {'x': 5, 'y': 0, 'class': 'MonsterRoom'},\n",
       "  {'x': 1, 'y': 1, 'class': 'MonsterRoom'},\n",
       "  {'x': 3, 'y': 1, 'class': 'MonsterRoom'},\n",
       "  {'x': 4, 'y': 1, 'class': 'EventRoom'},\n",
       "  {'x': 0, 'y': 2, 'class': 'ShopRoom'},\n",
       "  {'x': 2, 'y': 2, 'class': 'MonsterRoom'},\n",
       "  {'x': 3, 'y': 2, 'class': 'EventRoom'},\n",
       "  {'x': 4, 'y': 2, 'class': 'ShopRoom'},\n",
       "  {'x': 5, 'y': 2, 'class': 'EventRoom'},\n",
       "  {'x': 1, 'y': 3, 'class': 'MonsterRoom'},\n",
       "  {'x': 3, 'y': 3, 'class': 'MonsterRoom'},\n",
       "  {'x': 4, 'y': 3, 'class': 'MonsterRoom'},\n",
       "  {'x': 5, 'y': 3, 'class': 'MonsterRoom'},\n",
       "  {'x': 6, 'y': 3, 'class': 'EventRoom'},\n",
       "  {'x': 1, 'y': 4, 'class': 'MonsterRoom'},\n",
       "  {'x': 3, 'y': 4, 'class': 'EventRoom'},\n",
       "  {'x': 5, 'y': 4, 'class': 'MonsterRoom'},\n",
       "  {'x': 6, 'y': 4, 'class': 'EventRoom'},\n",
       "  {'x': 0, 'y': 5, 'class': 'RestRoom'},\n",
       "  {'x': 2, 'y': 5, 'class': 'MonsterRoomElite'},\n",
       "  {'x': 4, 'y': 5, 'class': 'MonsterRoom'},\n",
       "  {'x': 6, 'y': 5, 'class': 'MonsterRoomElite'},\n",
       "  {'x': 1, 'y': 6, 'class': 'MonsterRoomElite'},\n",
       "  {'x': 2, 'y': 6, 'class': 'MonsterRoom'},\n",
       "  {'x': 5, 'y': 6, 'class': 'MonsterRoom'},\n",
       "  {'x': 6, 'y': 6, 'class': 'EventRoom'},\n",
       "  {'x': 1, 'y': 7, 'class': 'MonsterRoom'},\n",
       "  {'x': 2, 'y': 7, 'class': 'MonsterRoomElite'},\n",
       "  {'x': 4, 'y': 7, 'class': 'MonsterRoom'},\n",
       "  {'x': 5, 'y': 7, 'class': 'EventRoom'},\n",
       "  {'x': 6, 'y': 7, 'class': 'MonsterRoom'},\n",
       "  {'x': 1, 'y': 8, 'class': 'TreasureRoom'},\n",
       "  {'x': 2, 'y': 8, 'class': 'TreasureRoom'},\n",
       "  {'x': 5, 'y': 8, 'class': 'TreasureRoom'},\n",
       "  {'x': 6, 'y': 8, 'class': 'TreasureRoom'},\n",
       "  {'x': 1, 'y': 9, 'class': 'MonsterRoom'},\n",
       "  {'x': 2, 'y': 9, 'class': 'RestRoom'},\n",
       "  {'x': 5, 'y': 9, 'class': 'MonsterRoom'},\n",
       "  {'x': 6, 'y': 9, 'class': 'MonsterRoomElite'},\n",
       "  {'x': 1, 'y': 10, 'class': 'MonsterRoom'},\n",
       "  {'x': 3, 'y': 10, 'class': 'MonsterRoom'},\n",
       "  {'x': 4, 'y': 10, 'class': 'RestRoom'},\n",
       "  {'x': 5, 'y': 10, 'class': 'ShopRoom'},\n",
       "  {'x': 6, 'y': 10, 'class': 'RestRoom'},\n",
       "  {'x': 1, 'y': 11, 'class': 'EventRoom'},\n",
       "  {'x': 3, 'y': 11, 'class': 'EventRoom'},\n",
       "  {'x': 4, 'y': 11, 'class': 'MonsterRoomElite'},\n",
       "  {'x': 5, 'y': 11, 'class': 'EventRoom'},\n",
       "  {'x': 2, 'y': 12, 'class': 'RestRoom'},\n",
       "  {'x': 4, 'y': 12, 'class': 'MonsterRoom'},\n",
       "  {'x': 5, 'y': 12, 'class': 'MonsterRoomElite'},\n",
       "  {'x': 6, 'y': 12, 'class': 'EventRoom'},\n",
       "  {'x': 1, 'y': 13, 'class': 'EventRoom'},\n",
       "  {'x': 3, 'y': 13, 'class': 'MonsterRoom'},\n",
       "  {'x': 4, 'y': 13, 'class': 'MonsterRoom'},\n",
       "  {'x': 5, 'y': 13, 'class': 'MonsterRoom'},\n",
       "  {'x': 0, 'y': 14, 'class': 'RestRoom'},\n",
       "  {'x': 1, 'y': 14, 'class': 'RestRoom'},\n",
       "  {'x': 4, 'y': 14, 'class': 'RestRoom'},\n",
       "  {'x': 6, 'y': 14, 'class': 'RestRoom'}]}"
      ]
     },
     "execution_count": 2,
     "metadata": {},
     "output_type": "execute_result"
    }
   ],
   "source": [
    "json_file_path = './maps/673465884448_Act1.json'\n",
    "with open(json_file_path, 'r') as f:\n",
    "    json_data = json.load(f)\n",
    "\n",
    "json_data"
   ]
  },
  {
   "cell_type": "markdown",
   "metadata": {
    "pycharm": {
     "name": "#%% md\n"
    }
   },
   "source": [
    "We will extend the node list and edge list to include a source node and sink node. The source will be connected to every node in the first level (y coordinate 0), and the sink will be connected to every node in the last level (y coordinate 14)."
   ]
  },
  {
   "cell_type": "code",
   "execution_count": 3,
   "metadata": {
    "pycharm": {
     "name": "#%%\n"
    }
   },
   "outputs": [],
   "source": [
    "node_list = json_data['nodes'].copy()\n",
    "\n",
    "# Source is represented by coordinates (-1, -1)\n",
    "node_list.append({\"x\": -1, \"y\": -1, \"class\": \"Source\"})\n",
    "\n",
    "# Sink is represented by coordinates (inf, inf)\n",
    "node_list.append({\"x\": np.inf, \"y\": np.inf, \"class\": \"Sink\"})\n",
    "\n",
    "# Sort nodes in order of increasing y coord., then increasing x coord.\n",
    "node_list.sort(key=lambda n: (n['y'], n['x']))\n",
    "\n",
    "edge_list = json_data['edges'].copy()\n",
    "# Add edges from source to first level\n",
    "edge_list = [{\"src_x\": -1, \"src_y\": -1, \"dst_x\": node['x'], \"dst_y\": node['y']}\n",
    "             for node in node_list\n",
    "             if node['y'] == 0] + edge_list\n",
    "\n",
    "# Add edges from last level to destination\n",
    "edge_list = edge_list + [{\"src_x\": node['x'], \"src_y\": node['y'], \"dst_x\": np.inf, \"dst_y\": np.inf}\n",
    "                         for node in node_list\n",
    "                         if node['y'] == 14]\n",
    "\n",
    "edge_list.sort(key=lambda e: (e['dst_y'], e['dst_x']))"
   ]
  },
  {
   "cell_type": "markdown",
   "metadata": {
    "pycharm": {
     "name": "#%% md\n"
    }
   },
   "source": [
    "Next, we will use this information to construct an incidence matrix. Note that the constraints could be built without the incidence matrix, but storing the graph this way is common and allows you to do other things with the structure."
   ]
  },
  {
   "cell_type": "code",
   "execution_count": 4,
   "metadata": {
    "pycharm": {
     "name": "#%%\n"
    }
   },
   "outputs": [
    {
     "name": "stdout",
     "output_type": "stream",
     "text": [
      "[[-1 -1 -1 ...  0  0  0]\n",
      " [ 1  0  0 ...  0  0  0]\n",
      " [ 0  1  0 ...  0  0  0]\n",
      " ...\n",
      " [ 0  0  0 ...  0 -1  0]\n",
      " [ 0  0  0 ...  0  0 -1]\n",
      " [ 0  0  0 ...  1  1  1]]\n"
     ]
    }
   ],
   "source": [
    "num_nodes = len(node_list)\n",
    "num_edges = len(edge_list)\n",
    "incidence_matrix = np.zeros((num_nodes, num_edges), dtype=int)\n",
    "\n",
    "# Keeps track of matrix row corresponding to a node\n",
    "node_index = {(node['x'], node['y']): index for index, node in enumerate(node_list)}\n",
    "\n",
    "# Update the incidence matrix\n",
    "for col, edge in enumerate(edge_list):\n",
    "    src = (edge['src_x'], edge['src_y'])\n",
    "    dst = (edge['dst_x'], edge['dst_y'])\n",
    "\n",
    "    src_index = node_index[src]\n",
    "    dst_index = node_index[dst]\n",
    "\n",
    "    incidence_matrix[src_index, col] = -1\n",
    "    incidence_matrix[dst_index, col] = 1\n",
    "\n",
    "print(incidence_matrix)"
   ]
  },
  {
   "cell_type": "markdown",
   "metadata": {
    "pycharm": {
     "name": "#%% md\n"
    }
   },
   "source": []
  },
  {
   "cell_type": "markdown",
   "metadata": {
    "pycharm": {
     "name": "#%% md\n"
    }
   },
   "source": [
    "## Evaluating Nodes\n",
    "\n",
    "Next, we will create a list of the weights corresponding to each edge. Recall that the weight is given by the value of the node it arrives at. To implement this we must create a function that evaluates a node. This is where the process can get extremely difficult, as the exact value of a node relies on many variables, some of which we have no information about without knowing the state of the game. To resolve this, we will use a simple evaluation function. Note that the function can get as complex as you want by considering more variables, and could perhaps be trained by machine learning."
   ]
  },
  {
   "cell_type": "code",
   "execution_count": null,
   "outputs": [],
   "source": [
    "# Ranked nodes\n",
    "def rank_eval(node_type):\n",
    "    match node_type:\n",
    "        case \"MonsterRoom\":\n",
    "            return 3\n",
    "        case \"ShopRoom\":\n",
    "            return 1\n",
    "        case \"RestRoom\":\n",
    "            return 4\n",
    "        case \"MonsterRoomElite\":\n",
    "            return 5\n",
    "        case \"EventRoom\":\n",
    "            return 2\n",
    "        case \"TreasureRoom\":\n",
    "            return 0 # Every path contains exactly 1 treasure room\n",
    "        case \"Source\" | \"Sink\":\n",
    "            return 0\n",
    "\n",
    "# Score penalized by potential risk, multiplied by risk tolerance 0 <= tol <= 1\n",
    "# evaluation = value - risk * (1 - tol)\n",
    "def risk_eval(node_type, tol=1.0):\n",
    "    match node_type:\n",
    "        case \"MonsterRoom\":\n",
    "            return 30 - 15*(1 - tol)\n",
    "        case \"ShopRoom\":\n",
    "            return 10 - 0*(1 - tol)\n",
    "        case \"RestRoom\":\n",
    "            return 40 - 0*(1 - tol)\n",
    "        case \"MonsterRoomElite\":\n",
    "            return 50 - 50*(1 - tol)\n",
    "        case \"EventRoom\":\n",
    "            return 20 - 5*(1 - tol)\n",
    "        case \"TreasureRoom\":\n",
    "            return 0 # Every path contains exactly 1 treasure room\n",
    "        case \"Source\" | \"Sink\":\n",
    "            return 0\n",
    "\n",
    "\"\"\"\n",
    "# Some complicated evaluation function\n",
    "# Each node's value can depend on a large number of variables\n",
    "def complicated_eval(node_type, data):\n",
    "    match node_type:\n",
    "        case \"MonsterRoom\":\n",
    "            return 10*(data['potion_chance']) \\\n",
    "                + 20*(data['prob_useful_card']) \\\n",
    "                - 20*(data['expected_damage_taken']) \\\n",
    "                ...\n",
    "\n",
    "\n",
    "\"\"\"\n",
    "\n",
    "# Choose the evaluation function to use\n",
    "# Feel free to change and experiment with it\n",
    "eval_fn = lambda node_type: risk_eval(node_type, 1)"
   ],
   "metadata": {
    "collapsed": false,
    "pycharm": {
     "name": "#%%\n"
    }
   }
  },
  {
   "cell_type": "markdown",
   "source": [
    "These evaluation functions can be tweaked to find a good score for each type of node.\n",
    "\n",
    "Next, we will create a list of weights for each edge, according to the value of the node it arrives at."
   ],
   "metadata": {
    "collapsed": false,
    "pycharm": {
     "name": "#%% md\n"
    }
   }
  },
  {
   "cell_type": "code",
   "execution_count": null,
   "outputs": [],
   "source": [
    "node_types = {(node['x'], node['y']): node['class'] for node in node_list}\n",
    "edge_weights = [eval_fn(node_types[(edge['dst_x'], edge['dst_y'])])\n",
    "                for edge in edge_list]"
   ],
   "metadata": {
    "collapsed": false,
    "pycharm": {
     "name": "#%%\n"
    }
   }
  },
  {
   "cell_type": "markdown",
   "source": [
    "## Constructing the LP\n",
    "\n",
    "Now that we have our incidence matrix and weighed the edges, we can construct and solve the linear program. I will be using the ```linprog``` function from scipy. By default, the function minimizes the objective function, so we must multiply the objective function my -1 to get a maximization problem."
   ],
   "metadata": {
    "collapsed": false,
    "pycharm": {
     "name": "#%% md\n"
    }
   }
  },
  {
   "cell_type": "code",
   "execution_count": null,
   "outputs": [],
   "source": [
    "# Multiply objective function coefficients by -1\n",
    "edge_weights = list(map(lambda x: -1*x, edge_weights))\n",
    "\n",
    "# Recall that the incidence matrix gives us the LHS of the constraints\n",
    "# Create LHS of constraints\n",
    "rhs = [0 for _ in node_list]\n",
    "rhs[0] = -1\n",
    "rhs[-1] = 1\n",
    "\n",
    "# Create variable bounds\n",
    "bounds = [(0, np.inf) for _ in edge_list]\n",
    "\n",
    "# Use linprog to find optimal path\n",
    "opt = linprog(c=edge_weights, A_eq=incidence_matrix, b_eq=rhs, bounds=bounds, integrality=1)\n",
    "print(opt)"
   ],
   "metadata": {
    "collapsed": false,
    "pycharm": {
     "name": "#%%\n"
    }
   }
  },
  {
   "cell_type": "markdown",
   "source": [
    "If the optimization is successful, then we have found this longest path we desired. The value 'fun' gives us the total weight of the edges. The 'x' value tells us which edges were taken. We will use this 'x' value to see which nodes were selected."
   ],
   "metadata": {
    "collapsed": false,
    "pycharm": {
     "name": "#%% md\n"
    }
   }
  },
  {
   "cell_type": "code",
   "execution_count": null,
   "outputs": [],
   "source": [
    "# Find chosen edges\n",
    "chosen_edges = []\n",
    "for i in range(len(opt.x)):\n",
    "    if opt.x[i] == 1:\n",
    "        chosen_edges.append(edge_list[i])\n",
    "chosen_edges"
   ],
   "metadata": {
    "collapsed": false,
    "pycharm": {
     "name": "#%%\n"
    }
   }
  },
  {
   "cell_type": "markdown",
   "source": [
    "We will display the map on a grid and highlight the chosen edges."
   ],
   "metadata": {
    "collapsed": false,
    "pycharm": {
     "name": "#%% md\n"
    }
   }
  },
  {
   "cell_type": "code",
   "execution_count": null,
   "outputs": [],
   "source": [
    "# Code for generating graph\n",
    "def create_grid(legend):\n",
    "    # Create an empty 7x15 grid of strings\n",
    "    grid = np.empty((7, 15), dtype=object)\n",
    "\n",
    "    # Fill the grid with an empty string\n",
    "    grid[:] = \"\"\n",
    "\n",
    "    # Iterate through the legend and replace the corresponding grid values\n",
    "    for key, value in legend.items():\n",
    "        grid[key[0], key[1]] = value\n",
    "\n",
    "    return grid\n",
    "\n",
    "def plot_grid(grid, colors):\n",
    "    grid = np.transpose(grid)  # Transpose the grid\n",
    "\n",
    "    fig, ax = plt.subplots()\n",
    "\n",
    "    for i in range(15):\n",
    "        for j in range(7):\n",
    "            square_color = colors[grid[i, j]]\n",
    "            square = patches.Rectangle((j, i), 1, 1, facecolor=square_color, edgecolor=\"black\")\n",
    "            ax.add_patch(square)\n",
    "\n",
    "    ax.set_xlim(0, 7)\n",
    "    ax.set_ylim(0, 15)\n",
    "    ax.set_aspect(\"equal\")\n",
    "    ax.axis(\"off\")\n",
    "\n",
    "    plt.show()"
   ],
   "metadata": {
    "collapsed": false,
    "pycharm": {
     "name": "#%%\n"
    }
   }
  },
  {
   "cell_type": "code",
   "execution_count": null,
   "outputs": [],
   "source": [
    "# Generating graph\n",
    "# Label each type of node on the 7x15 grid\n",
    "legend = {(i, j): node_types.get((i, j), \"Nothing\") for i in range(7) for j in range(15)}\n",
    "\n",
    "# Label the nodes chosen by the LP\n",
    "# Set this to False to see original map\n",
    "if True:\n",
    "    for edge in chosen_edges[:-1]:\n",
    "        n = (edge['dst_x'], edge['dst_y'])\n",
    "        legend[n] = 'Chosen'\n",
    "\n",
    "# Color mapping (Can be changed if you like)\n",
    "color_map = {\n",
    "        'Nothing': \"black\",\n",
    "        'MonsterRoom': \"red\",\n",
    "        'MonsterRoomElite': \"darkred\",\n",
    "        'ShopRoom': \"orange\",\n",
    "        'RestRoom': \"purple\",\n",
    "        'TreasureRoom': \"green\",\n",
    "        'EventRoom': \"yellow\",\n",
    "        'Chosen': \"white\"\n",
    "    }\n",
    "\n",
    "grid = create_grid(legend)\n",
    "plot_grid(grid, color_map)\n",
    "print([f\"{(e['dst_x'], e['dst_y'])} - {node_types[(e['dst_x'], e['dst_y'])]}\" for e in chosen_edges])"
   ],
   "metadata": {
    "collapsed": false,
    "pycharm": {
     "name": "#%%\n"
    },
    "is_executing": true
   }
  },
  {
   "cell_type": "markdown",
   "source": [
    "## Results\n",
    "\n"
   ],
   "metadata": {
    "collapsed": false,
    "pycharm": {
     "name": "#%% md\n"
    }
   }
  }
 ],
 "metadata": {
  "kernelspec": {
   "display_name": "Python 3 (ipykernel)",
   "language": "python",
   "name": "python3"
  },
  "language_info": {
   "codemirror_mode": {
    "name": "ipython",
    "version": 3
   },
   "file_extension": ".py",
   "mimetype": "text/x-python",
   "name": "python",
   "nbconvert_exporter": "python",
   "pygments_lexer": "ipython3",
   "version": "3.10.11"
  }
 },
 "nbformat": 4,
 "nbformat_minor": 1
}
